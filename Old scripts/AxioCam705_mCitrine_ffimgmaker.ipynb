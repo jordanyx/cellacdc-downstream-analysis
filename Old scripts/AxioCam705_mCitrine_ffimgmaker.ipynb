{
 "cells": [
  {
   "cell_type": "code",
   "execution_count": 20,
   "id": "ac77e7e5-b4c9-4c8e-af0c-fc7aec5d7a36",
   "metadata": {},
   "outputs": [],
   "source": [
    "#pip install aicsimageio and tifffile into acdc environment if you haven't yet\n",
    "\n",
    "from aicsimageio import AICSImage\n",
    "from aicsimageio.writers import OmeTiffWriter\n",
    "from aicspylibczi import CziFile\n",
    "from pathlib import Path\n",
    "import numpy as np\n",
    "from PIL import Image\n",
    "import tifffile as tf"
   ]
  },
  {
   "cell_type": "code",
   "execution_count": 21,
   "id": "5d2c4515-9856-4e0c-8342-4d3989aee9e7",
   "metadata": {},
   "outputs": [],
   "source": [
    "\n",
    "ff_file = r\"G:\\My Drive\\AxioCam705_control_images\\\\220415_AxioCam705_flatfield.czi\" \n",
    "#directory of czi file. keep as r-string to avoid errors due to space (Google Drive won't let me change the directory name U+1F620"
   ]
  },
  {
   "cell_type": "code",
   "execution_count": 26,
   "id": "019dbc9c-1808-46f3-9353-01f241f37526",
   "metadata": {},
   "outputs": [],
   "source": [
    "ff_czi = CziFile(ff_file) #load czi file\n",
    "median_ff = np.empty((ff_czi.size[2],ff_czi.size[3])) #create empty array of the appropriate dimensions for your final output\n",
    "img_ff,shp_ff = ff_czi.read_image(C = 1) #read czi file. img_ff = numpy array, shp_ff = shape of array\n",
    "float_median_ff = np.median(img_ff[0],axis=[0]) #get median pixel values from flatfield images\n",
    "int_median_ff = float_median_ff.astype(int) #turn float into int\n",
    "im = Image.fromarray(int_median_ff) #turn array into image type"
   ]
  },
  {
   "cell_type": "code",
   "execution_count": 12,
   "id": "d775b1ab-b9b1-4300-b490-be72b5c41652",
   "metadata": {},
   "outputs": [],
   "source": [
    "im.save(\".tif\") #save the image"
   ]
  },
  {
   "cell_type": "code",
   "execution_count": null,
   "id": "dc535166-b8a0-407e-9bc8-691ae38fd0e0",
   "metadata": {},
   "outputs": [],
   "source": []
  }
 ],
 "metadata": {
  "kernelspec": {
   "display_name": "Python 3 (ipykernel)",
   "language": "python",
   "name": "python3"
  },
  "language_info": {
   "codemirror_mode": {
    "name": "ipython",
    "version": 3
   },
   "file_extension": ".py",
   "mimetype": "text/x-python",
   "name": "python",
   "nbconvert_exporter": "python",
   "pygments_lexer": "ipython3",
   "version": "3.9.7"
  }
 },
 "nbformat": 4,
 "nbformat_minor": 5
}
