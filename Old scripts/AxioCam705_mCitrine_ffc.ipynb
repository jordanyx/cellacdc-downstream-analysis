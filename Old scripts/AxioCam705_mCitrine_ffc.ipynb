{
 "cells": [
  {
   "cell_type": "code",
   "execution_count": 1,
   "id": "2d87b309-6e27-40c5-a9c1-306074852a1b",
   "metadata": {},
   "outputs": [],
   "source": [
    "#pip install aicsimageio into acdc environment if you haven't yet\n",
    "\n",
    "from aicsimageio import AICSImage\n",
    "from aicsimageio.writers import OmeTiffWriter\n",
    "from aicspylibczi import CziFile\n",
    "from pathlib import Path\n",
    "import numpy as np\n",
    "from PIL import Image\n",
    "import tifffile"
   ]
  },
  {
   "cell_type": "code",
   "execution_count": 4,
   "id": "467ecba6-4395-435b-8aca-41b735ce01f2",
   "metadata": {},
   "outputs": [],
   "source": [
    "#img_file = r\"C:\\Users\\Jacob\\OneDrive\\Documents\\AxioCam705_control_images\\\\220415_yJK056_autof.czi\"\n",
    "output_dir = r\"G:\\My Drive\\Whi5pr_mutants\\220607_SM_yJK098_30ngmLaTc_expt3_oldff\\\\\"\n",
    "output_name = r\"220607_SM_yJK098_30ngmLaTc_expt3_oldff\"\n",
    "\n",
    "img_file = r\"D:\\Shimasawa\\220607_SM_yJK098_30ngmLaTc_expt3_data\\New-03.czi\"\n",
    "ff_file = r\"G:\\My Drive\\AxioCam705_control_images\\\\AxioCam705_mCitrine_ff.TIF\" #path of flatfield median image\n",
    "img_czi = CziFile(img_file)\n",
    "ff_img = AICSImage(ff_file)\n",
    "ff = np.empty((1,121,1,1028,1216),dtype = 'float')\n",
    "temp_ff = ff_img.data\n",
    "temp_ff = temp_ff.astype(float)\n",
    "for t in range(121):\n",
    "    ff[0,t,0,:,:] = temp_ff"
   ]
  },
  {
   "cell_type": "code",
   "execution_count": 5,
   "id": "0bf32bb8-8413-448b-98c9-a62627b92309",
   "metadata": {},
   "outputs": [],
   "source": [
    "pos = img_czi.size[0]\n",
    "\n",
    "for p in range(pos):\n",
    "    temp_img,temp_shp = img_czi.read_image(S=p)\n",
    "    temp_img = temp_img.astype(float)\n",
    "    temp_img[0,:,1,:,:] -= ff[0,:,0,:,:]\n",
    "\n",
    "    temp_img[temp_img < 0] = 0\n",
    "    temp_img = temp_img.astype(\"uint16\")\n",
    "    tifffile.imwrite(\n",
    "    output_dir + output_name+\"_pos\"+str(p+1).zfill(2)+\".tif\", temp_img[0,:,:,:,:], imagej=True,resolution=(1./0.1095238, 1./0.1095238), metadata={'axes': 'TCYX','unit': 'um'}\n",
    "    )\n",
    "\n"
   ]
  },
  {
   "cell_type": "code",
   "execution_count": null,
   "id": "f7243061-398b-4efa-a293-be86c4dd2606",
   "metadata": {},
   "outputs": [],
   "source": [
    "# include raw image (not finished)\n",
    "\n",
    "pos = img_czi.size[0]\n",
    "\n",
    "for p = range(pos):\n",
    "    temp_img,temp_shp = img_czi.read_image(S=p)\n",
    "    temp_img = temp_img.astype(float)\n",
    "\n",
    "    temp_img[0,:,1,:,:] -= ff[0,:,0,:,:]\n",
    "    \n",
    "    temp_img[temp_img < 0] = 0\n",
    "    temp_img = temp_img.astype(\"uint16\")\n",
    "    tifffile.imwrite(\n",
    "    output_dir + output_name+\"_pos\"+str(p+1).zfill(2)+\".tif\", temp_img[0,:,:,:,:], imagej=True,resolution=(1./0.1095238, 1./0.1095238), metadata={'axes': 'TCYX','unit': 'um'}\n",
    "    )\n",
    "\n"
   ]
  }
 ],
 "metadata": {
  "kernelspec": {
   "display_name": "Python 3 (ipykernel)",
   "language": "python",
   "name": "python3"
  },
  "language_info": {
   "codemirror_mode": {
    "name": "ipython",
    "version": 3
   },
   "file_extension": ".py",
   "mimetype": "text/x-python",
   "name": "python",
   "nbconvert_exporter": "python",
   "pygments_lexer": "ipython3",
   "version": "3.9.7"
  }
 },
 "nbformat": 4,
 "nbformat_minor": 5
}
